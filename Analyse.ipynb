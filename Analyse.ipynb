{
 "cells": [
  {
   "cell_type": "code",
   "execution_count": 71,
   "metadata": {},
   "outputs": [],
   "source": [
    "import re\n",
    "import os\n",
    "import json\n",
    "import time\n",
    "from PIL import Image\n",
    "\n",
    "import torch\n",
    "import numpy as np\n",
    "from tqdm import tqdm\n",
    "from scipy.stats import ttest_ind\n",
    "\n",
    "import faiss\n",
    "from sentence_transformers import SentenceTransformer\n",
    "from transformers import CLIPProcessor, CLIPModel, AutoTokenizer\n",
    "\n",
    "root = \"results/\"\n",
    "image_root = \"F:/train_blocks\""
   ]
  },
  {
   "cell_type": "code",
   "execution_count": 72,
   "metadata": {},
   "outputs": [
    {
     "data": {
      "application/vnd.jupyter.widget-view+json": {
       "model_id": "3cf40b9edbee45b6aba5b7848cb170cf",
       "version_major": 2,
       "version_minor": 0
      },
      "text/plain": [
       "HBox(children=(FloatProgress(value=0.0, description='Downloading (…)okenizer_config.json', max=874.0, style=Pr…"
      ]
     },
     "metadata": {},
     "output_type": "display_data"
    },
    {
     "name": "stdout",
     "output_type": "stream",
     "text": [
      "\n"
     ]
    },
    {
     "name": "stderr",
     "output_type": "stream",
     "text": [
      "D:\\Anaconda\\lib\\site-packages\\huggingface_hub\\file_download.py:133: UserWarning: `huggingface_hub` cache-system uses symlinks by default to efficiently store duplicated files but your machine does not support them in C:\\Users\\Lenovo\\.cache\\huggingface\\hub. Caching files will still work but in a degraded version that might require more space on your disk. This warning can be disabled by setting the `HF_HUB_DISABLE_SYMLINKS_WARNING` environment variable. For more details, see https://huggingface.co/docs/huggingface_hub/how-to-cache#limitations.\n",
      "To support symlinks on Windows, you either need to activate Developer Mode or to run Python as an administrator. In order to see activate developer mode, see this article: https://docs.microsoft.com/en-us/windows/apps/get-started/enable-your-device-for-development\n",
      "  warnings.warn(message)\n"
     ]
    },
    {
     "data": {
      "application/vnd.jupyter.widget-view+json": {
       "model_id": "aed76fb519854459a54aed58297d08cf",
       "version_major": 2,
       "version_minor": 0
      },
      "text/plain": [
       "HBox(children=(FloatProgress(value=0.0, description='Downloading (…)olve/main/vocab.json', max=862328.0, style…"
      ]
     },
     "metadata": {},
     "output_type": "display_data"
    },
    {
     "name": "stdout",
     "output_type": "stream",
     "text": [
      "\n"
     ]
    },
    {
     "data": {
      "application/vnd.jupyter.widget-view+json": {
       "model_id": "cf145fae9f184d40955474d56bf953fb",
       "version_major": 2,
       "version_minor": 0
      },
      "text/plain": [
       "HBox(children=(FloatProgress(value=0.0, description='Downloading (…)olve/main/merges.txt', max=524657.0, style…"
      ]
     },
     "metadata": {},
     "output_type": "display_data"
    },
    {
     "name": "stdout",
     "output_type": "stream",
     "text": [
      "\n"
     ]
    },
    {
     "data": {
      "application/vnd.jupyter.widget-view+json": {
       "model_id": "f8a3b2a8e95c4b31a100c83995306683",
       "version_major": 2,
       "version_minor": 0
      },
      "text/plain": [
       "HBox(children=(FloatProgress(value=0.0, description='Downloading (…)cial_tokens_map.json', max=389.0, style=Pr…"
      ]
     },
     "metadata": {},
     "output_type": "display_data"
    },
    {
     "name": "stdout",
     "output_type": "stream",
     "text": [
      "\n"
     ]
    }
   ],
   "source": [
    "tokenizer = AutoTokenizer.from_pretrained(\"flax-community/clip-rsicd-v2\")"
   ]
  },
  {
   "cell_type": "code",
   "execution_count": 74,
   "metadata": {},
   "outputs": [
    {
     "data": {
      "application/vnd.jupyter.widget-view+json": {
       "model_id": "5277be6e8e574515a80c8cf698e4c06e",
       "version_major": 2,
       "version_minor": 0
      },
      "text/plain": [
       "HBox(children=(FloatProgress(value=0.0, description='Downloading pytorch_model.bin', max=605256737.0, style=Pr…"
      ]
     },
     "metadata": {},
     "output_type": "display_data"
    },
    {
     "name": "stdout",
     "output_type": "stream",
     "text": [
      "\n"
     ]
    }
   ],
   "source": [
    "model = CLIPModel.from_pretrained(\"flax-community/clip-rsicd-v2\")"
   ]
  },
  {
   "cell_type": "code",
   "execution_count": 75,
   "metadata": {
    "scrolled": true
   },
   "outputs": [
    {
     "data": {
      "application/vnd.jupyter.widget-view+json": {
       "model_id": "f6beddba09c14be2b611476d4a0a87e4",
       "version_major": 2,
       "version_minor": 0
      },
      "text/plain": [
       "HBox(children=(FloatProgress(value=0.0, description='Downloading (…)rocessor_config.json', max=354.0, style=Pr…"
      ]
     },
     "metadata": {},
     "output_type": "display_data"
    },
    {
     "name": "stdout",
     "output_type": "stream",
     "text": [
      "\n"
     ]
    }
   ],
   "source": [
    "processor = CLIPProcessor.from_pretrained(\"flax-community/clip-rsicd-v2\")"
   ]
  },
  {
   "cell_type": "code",
   "execution_count": 76,
   "metadata": {},
   "outputs": [],
   "source": [
    "def cap_post_process(caption):\n",
    "    answers = []\n",
    "    \n",
    "    caps = re.split(\"CAP\\s*\\d*\\s*[:=-]\", caption)[1:]\n",
    "    for cap in caps:\n",
    "        if re.search(\"\\d{2,}\", cap):\n",
    "            continue\n",
    "        cap = cap.strip()\n",
    "        cap = re.sub(\"^[\\'\\\"]\", \"\", cap)\n",
    "        cap = re.sub(\"[\\'\\\"]$\", \"\", cap)\n",
    "        answers.append(cap)\n",
    "    return answers\n",
    "\n",
    "def record_post_process(record):\n",
    "    answers = {}\n",
    "    \n",
    "    for key, item in record.items():\n",
    "        extracted_captions = []\n",
    "        for caption in item[\"response\"]:\n",
    "            \n",
    "            extracted_captions.extend(cap_post_process(caption))\n",
    "        answers[key] = extracted_captions\n",
    "    \n",
    "    return answers"
   ]
  },
  {
   "cell_type": "code",
   "execution_count": 77,
   "metadata": {},
   "outputs": [],
   "source": [
    "records = {}\n",
    "\n",
    "for file_name in os.listdir(root):\n",
    "    file_name_capture = re.search(\"records_(\\d_[0-9]\\d?).json\", file_name)\n",
    "    if file_name_capture:\n",
    "        file_id = file_name_capture.group(1)\n",
    "        \n",
    "        with open(os.path.join(root, file_name), \"r\") as f:\n",
    "            record = record_post_process(json.load(f))\n",
    "        \n",
    "        if len(record) == 0:\n",
    "            continue\n",
    "        records[file_id] = record"
   ]
  },
  {
   "cell_type": "code",
   "execution_count": 78,
   "metadata": {},
   "outputs": [],
   "source": [
    "with open(\"results/sample.json\", \"r\") as f:\n",
    "    samples = json.load(f)"
   ]
  },
  {
   "cell_type": "code",
   "execution_count": 79,
   "metadata": {},
   "outputs": [],
   "source": [
    "images = []\n",
    "\n",
    "for key in samples_keys:\n",
    "    file_path = os.path.join(image_root, f\"{key}.png\")\n",
    "    if os.path.isfile(file_path):\n",
    "        images.append(Image.open(file_path))"
   ]
  },
  {
   "cell_type": "code",
   "execution_count": 80,
   "metadata": {},
   "outputs": [
    {
     "name": "stderr",
     "output_type": "stream",
     "text": [
      "\n",
      "0it [00:00, ?it/s]\u001b[A\n",
      "1it [00:00,  3.82it/s]\u001b[A\n",
      "2it [00:00,  3.84it/s]\u001b[A\n",
      "3it [00:00,  3.96it/s]\u001b[A\n",
      "4it [00:00,  4.04it/s]\u001b[A\n",
      "5it [00:01,  4.20it/s]\u001b[A\n",
      "6it [00:01,  4.31it/s]\u001b[A\n",
      "7it [00:01,  4.40it/s]\u001b[A\n",
      "8it [00:01,  4.37it/s]\u001b[A\n",
      "9it [00:02,  3.94it/s]\u001b[A\n",
      "10it [00:02,  4.01it/s]\u001b[A\n",
      "11it [00:02,  4.10it/s]\u001b[A\n",
      "12it [00:02,  4.14it/s]\u001b[A\n",
      "13it [00:03,  4.36it/s]\u001b[A\n",
      "14it [00:03,  4.35it/s]\u001b[A\n",
      "15it [00:03,  4.42it/s]\u001b[A\n",
      "16it [00:03,  4.48it/s]\u001b[A\n",
      "17it [00:03,  4.50it/s]\u001b[A\n",
      "18it [00:04,  4.55it/s]\u001b[A\n",
      "19it [00:04,  4.46it/s]\u001b[A\n",
      "20it [00:04,  4.32it/s]\u001b[A\n",
      "21it [00:04,  4.40it/s]\u001b[A\n",
      "22it [00:05,  4.33it/s]\u001b[A\n",
      "23it [00:05,  4.44it/s]\u001b[A\n",
      "24it [00:05,  4.49it/s]\u001b[A\n",
      "25it [00:05,  4.50it/s]\u001b[A\n",
      "26it [00:06,  4.46it/s]\u001b[A\n",
      "27it [00:06,  4.33it/s]\u001b[A\n",
      "28it [00:06,  4.36it/s]\u001b[A\n",
      "29it [00:06,  4.37it/s]\u001b[A\n",
      "30it [00:06,  4.44it/s]\u001b[A\n",
      "31it [00:07,  4.49it/s]\u001b[A\n",
      "32it [00:07,  4.42it/s]\u001b[A\n",
      "33it [00:07,  4.38it/s]\u001b[A\n",
      "34it [00:07,  4.41it/s]\u001b[A\n",
      "35it [00:08,  4.24it/s]\u001b[A\n",
      "36it [00:08,  4.18it/s]\u001b[A\n",
      "37it [00:08,  4.20it/s]\u001b[A\n",
      "38it [00:08,  4.21it/s]\u001b[A\n",
      "39it [00:09,  4.31it/s]\u001b[A\n",
      "40it [00:09,  4.32it/s]\u001b[A\n",
      "41it [00:09,  4.30it/s]\u001b[A\n",
      "42it [00:09,  4.30it/s]\u001b[A\n",
      "43it [00:09,  4.39it/s]\u001b[A\n",
      "44it [00:10,  4.36it/s]\u001b[A\n",
      "45it [00:10,  4.43it/s]\u001b[A\n",
      "46it [00:10,  4.39it/s]\u001b[A\n",
      "47it [00:10,  4.36it/s]\u001b[A\n",
      "48it [00:11,  4.16it/s]\u001b[A\n",
      "49it [00:11,  4.19it/s]\u001b[A\n",
      "50it [00:11,  4.30it/s]\u001b[A\n",
      "51it [00:11,  4.30it/s]\u001b[A\n",
      "52it [00:12,  4.38it/s]\u001b[A\n",
      "53it [00:12,  4.35it/s]\u001b[A\n",
      "54it [00:12,  4.34it/s]\u001b[A\n",
      "55it [00:12,  4.32it/s]\u001b[A\n",
      "56it [00:12,  4.40it/s]\u001b[A\n",
      "57it [00:13,  4.38it/s]\u001b[A\n",
      "58it [00:13,  4.45it/s]\u001b[A\n",
      "59it [00:13,  4.58it/s]\u001b[A\n",
      "60it [00:13,  4.81it/s]\u001b[A\n",
      "61it [00:13,  4.76it/s]\u001b[A\n",
      "62it [00:14,  4.71it/s]\u001b[A\n",
      "63it [00:14,  4.79it/s]\u001b[A\n",
      "64it [00:14,  4.45it/s]\u001b[A\n",
      "65it [00:14,  4.57it/s]\u001b[A\n",
      "66it [00:15,  4.59it/s]\u001b[A\n",
      "67it [00:15,  4.71it/s]\u001b[A\n",
      "68it [00:15,  4.89it/s]\u001b[A\n",
      "69it [00:15,  4.81it/s]\u001b[A\n",
      "70it [00:15,  4.98it/s]\u001b[A\n",
      "71it [00:16,  4.87it/s]\u001b[A\n",
      "72it [00:16,  5.03it/s]\u001b[A\n",
      "73it [00:16,  5.01it/s]\u001b[AToken indices sequence length is longer than the specified maximum sequence length for this model (143 > 77). Running this sequence through the model will result in indexing errors\n",
      "\n",
      "74it [00:16,  4.84it/s]\u001b[A\n",
      "75it [00:16,  4.94it/s]\u001b[A\n",
      "76it [00:17,  5.07it/s]\u001b[A\n",
      "77it [00:17,  5.06it/s]\u001b[A\n",
      "78it [00:17,  5.04it/s]\u001b[A\n",
      "79it [00:17,  5.03it/s]\u001b[A\n",
      "80it [00:17,  5.02it/s]\u001b[A\n",
      "81it [00:18,  5.14it/s]\u001b[A\n",
      "82it [00:18,  5.11it/s]\u001b[A\n",
      "83it [00:18,  5.07it/s]\u001b[A\n",
      "84it [00:18,  5.05it/s]\u001b[A\n",
      "85it [00:18,  4.51it/s]\u001b[A\n"
     ]
    }
   ],
   "source": [
    "all_captions = []\n",
    "samples_indices = []\n",
    "records_indices = []\n",
    "\n",
    "for key_idx, key in tqdm(enumerate(samples_keys)):\n",
    "    sim_record = {}\n",
    "    for record_id, record in records.items():\n",
    "        sim_record[record_id] = record.get(key, [])\n",
    "        \n",
    "    for record_key, captions in sim_record.items():\n",
    "        record_idx = records_keys.index(record_key)\n",
    "        valid_captions = [cap for cap in captions if len(tokenizer.tokenize(cap)) <= 75]\n",
    "        if len(valid_captions) < 70:\n",
    "            continue\n",
    "            \n",
    "        all_captions.extend(valid_captions)\n",
    "        samples_indices.extend([key_idx] * len(valid_captions))\n",
    "        records_indices.extend([record_idx] * len(valid_captions))"
   ]
  },
  {
   "cell_type": "code",
   "execution_count": 81,
   "metadata": {},
   "outputs": [],
   "source": [
    "match_scores = np.zeros(len(all_captions))"
   ]
  },
  {
   "cell_type": "code",
   "execution_count": 82,
   "metadata": {},
   "outputs": [
    {
     "name": "stderr",
     "output_type": "stream",
     "text": [
      "\n",
      "0it [00:00, ?it/s]\u001b[A\n",
      "1it [00:30, 30.35s/it]\u001b[A\n",
      "2it [01:06, 32.11s/it]\u001b[A\n",
      "3it [01:37, 31.81s/it]\u001b[A\n",
      "4it [02:10, 32.22s/it]\u001b[A\n",
      "5it [02:53, 35.22s/it]\u001b[A\n",
      "6it [03:28, 35.28s/it]\u001b[A\n",
      "7it [04:00, 34.31s/it]\u001b[A\n",
      "8it [04:29, 32.76s/it]\u001b[A\n",
      "9it [05:01, 32.37s/it]\u001b[A\n",
      "10it [05:35, 32.93s/it]\u001b[A\n",
      "11it [06:10, 33.46s/it]\u001b[A\n",
      "12it [06:42, 33.10s/it]\u001b[A\n",
      "13it [07:09, 31.45s/it]\u001b[A\n",
      "14it [07:43, 32.22s/it]\u001b[A\n",
      "15it [08:15, 31.95s/it]\u001b[A\n",
      "16it [08:48, 32.21s/it]\u001b[A\n",
      "17it [09:19, 32.02s/it]\u001b[A\n",
      "18it [09:51, 31.82s/it]\u001b[A\n",
      "19it [10:22, 31.82s/it]\u001b[A\n",
      "20it [10:55, 32.03s/it]\u001b[A\n",
      "21it [11:25, 31.43s/it]\u001b[A\n",
      "22it [11:55, 31.14s/it]\u001b[A\n",
      "23it [12:26, 31.00s/it]\u001b[A\n",
      "24it [12:57, 31.08s/it]\u001b[A\n",
      "25it [13:30, 31.62s/it]\u001b[A\n",
      "26it [14:03, 31.84s/it]\u001b[A\n",
      "27it [14:32, 31.26s/it]\u001b[A\n",
      "28it [15:02, 30.87s/it]\u001b[A\n",
      "29it [15:32, 30.53s/it]\u001b[A\n",
      "30it [16:01, 29.96s/it]\u001b[A\n",
      "31it [16:32, 30.46s/it]\u001b[A\n",
      "32it [17:02, 30.26s/it]\u001b[A\n",
      "33it [17:31, 29.88s/it]\u001b[A\n",
      "34it [18:00, 29.63s/it]\u001b[A\n",
      "35it [18:32, 30.28s/it]\u001b[A\n",
      "36it [19:03, 30.49s/it]\u001b[A\n",
      "37it [19:35, 30.87s/it]\u001b[A\n",
      "38it [20:06, 30.86s/it]\u001b[A\n",
      "39it [20:34, 30.27s/it]\u001b[A\n",
      "40it [21:05, 30.34s/it]\u001b[A\n",
      "41it [21:35, 30.23s/it]\u001b[A\n",
      "42it [22:06, 30.44s/it]\u001b[A\n",
      "43it [22:37, 30.53s/it]\u001b[A\n",
      "44it [23:08, 30.67s/it]\u001b[A\n",
      "45it [23:38, 30.54s/it]\u001b[A\n",
      "46it [24:08, 30.47s/it]\u001b[A\n",
      "47it [24:38, 30.20s/it]\u001b[A\n",
      "48it [25:08, 30.25s/it]\u001b[A\n",
      "49it [25:39, 30.34s/it]\u001b[A\n",
      "50it [26:06, 29.40s/it]\u001b[A\n",
      "51it [26:36, 29.72s/it]\u001b[A\n",
      "52it [27:07, 30.13s/it]\u001b[A\n",
      "53it [27:37, 30.10s/it]\u001b[A\n",
      "54it [28:09, 30.54s/it]\u001b[A\n",
      "55it [28:39, 30.36s/it]\u001b[A\n",
      "56it [29:11, 30.77s/it]\u001b[A\n",
      "57it [29:42, 30.82s/it]\u001b[A\n",
      "58it [30:10, 29.96s/it]\u001b[A\n",
      "59it [30:38, 29.41s/it]\u001b[A\n",
      "60it [31:06, 29.08s/it]\u001b[A\n",
      "61it [31:34, 28.75s/it]\u001b[A\n",
      "62it [32:01, 28.30s/it]\u001b[A\n",
      "63it [32:29, 28.19s/it]\u001b[A\n",
      "64it [32:56, 27.92s/it]\u001b[A\n",
      "65it [33:23, 27.54s/it]\u001b[A\n",
      "66it [33:52, 27.80s/it]\u001b[A\n",
      "67it [34:19, 27.57s/it]\u001b[A\n",
      "68it [34:46, 27.68s/it]\u001b[A\n",
      "69it [35:14, 27.69s/it]\u001b[A\n",
      "70it [35:40, 27.11s/it]\u001b[A\n",
      "71it [36:09, 27.74s/it]\u001b[A\n",
      "72it [36:36, 27.34s/it]\u001b[A\n",
      "73it [37:03, 27.24s/it]\u001b[A\n",
      "74it [37:30, 27.43s/it]\u001b[A\n",
      "75it [37:58, 27.58s/it]\u001b[A\n",
      "76it [38:24, 26.95s/it]\u001b[A\n",
      "77it [38:52, 27.40s/it]\u001b[A\n",
      "78it [39:18, 26.97s/it]\u001b[A\n",
      "79it [39:46, 27.23s/it]\u001b[A\n",
      "80it [40:14, 27.42s/it]\u001b[A\n",
      "81it [40:42, 27.47s/it]\u001b[A\n",
      "82it [41:08, 27.12s/it]\u001b[A\n",
      "83it [41:36, 27.41s/it]\u001b[A\n",
      "84it [42:04, 27.63s/it]\u001b[A\n",
      "85it [42:31, 30.01s/it]\u001b[A"
     ]
    },
    {
     "name": "stdout",
     "output_type": "stream",
     "text": [
      "2551.127875804901\n"
     ]
    },
    {
     "name": "stderr",
     "output_type": "stream",
     "text": [
      "\n"
     ]
    }
   ],
   "source": [
    "start_time = time.time()\n",
    "for idx, key in tqdm(enumerate(samples_keys)):\n",
    "    sample_indices = [i for i, cap in enumerate(all_captions) if samples_indices[i] == idx]\n",
    "    sample_captions = [all_captions[i] for i in sample_indices]\n",
    "    # sample_records = [records_indices[i] for i, cap in enumerate(all_captions) if samples_indices[i] == sample_idx]\n",
    "\n",
    "    if (match_scores[sample_indices] == 0).sum() == 0:\n",
    "        print(f\"idx {idx} has been done. Continue\")\n",
    "        continue\n",
    "    \n",
    "    for i in range(0, len(sample_captions), 50):\n",
    "        slice_indices = sample_indices[i:i+50]\n",
    "        slice_captions = sample_captions[i:i+50]\n",
    "        \n",
    "        inputs = processor(text=slice_captions, images=images[idx], return_tensors=\"pt\", padding=True)\n",
    "        outputs = model(**inputs).logits_per_image[0].detach().numpy()\n",
    "        match_scores[slice_indices] = outputs\n",
    "end_time = time.time()\n",
    "print(end_time - start_time) "
   ]
  },
  {
   "cell_type": "code",
   "execution_count": 83,
   "metadata": {
    "scrolled": true
   },
   "outputs": [
    {
     "name": "stdout",
     "output_type": "stream",
     "text": [
      "0_0\n",
      "(5266,)\n",
      "21.602052852313328\n",
      "2.197008422019524\n",
      "0_1\n",
      "(8145,)\n",
      "21.145144394909114\n",
      "2.3749839806832513\n",
      "0_10\n",
      "(7643,)\n",
      "21.050573482261377\n",
      "2.496387817911768\n",
      "0_2\n",
      "(8173,)\n",
      "21.116528355271612\n",
      "2.341249002809695\n",
      "0_3\n",
      "(7584,)\n",
      "21.083072877005687\n",
      "2.457297100705515\n",
      "0_4\n",
      "(7803,)\n",
      "21.12413204197515\n",
      "2.473613801516891\n",
      "0_5\n",
      "(7908,)\n",
      "20.954446864116054\n",
      "2.562721101106644\n",
      "0_6\n",
      "(7962,)\n",
      "20.973878650023273\n",
      "2.5961284707319883\n",
      "0_7\n",
      "(6923,)\n",
      "21.193824151339566\n",
      "2.273691411253815\n",
      "0_8\n",
      "(7933,)\n",
      "21.11615548493897\n",
      "2.45088677412625\n",
      "0_9\n",
      "(7935,)\n",
      "21.142657722131815\n",
      "2.488920514971912\n"
     ]
    }
   ],
   "source": [
    "for i, key in enumerate(records_keys):\n",
    "    \n",
    "    scores = match_scores[np.array(records_indices) == i]\n",
    "    print(key)\n",
    "    print(scores.shape)\n",
    "    print(scores.mean())\n",
    "    print(scores.std())\n",
    "    "
   ]
  },
  {
   "cell_type": "code",
   "execution_count": 84,
   "metadata": {},
   "outputs": [],
   "source": [
    "scores_with_indices = np.stack((match_scores, np.array(samples_indices), np.array(records_indices)))\n",
    "\n",
    "with open('results/rsicd-clip_match_scores.npy', 'wb') as f:\n",
    "    np.save(f, scores_with_indices)"
   ]
  },
  {
   "cell_type": "code",
   "execution_count": 57,
   "metadata": {},
   "outputs": [],
   "source": [
    "def t_test(a, b):\n",
    "    min_size = min(len(a), len(b))\n",
    "    \n",
    "    sample_a = a\n",
    "    sample_b = b\n",
    "    \n",
    "    if min_size != len(sample_a):\n",
    "        sample_a = np.random.choice(a, min_size, replace=False)\n",
    "    if min_size != len(sample_b):\n",
    "        sample_b = np.random.choice(b, min_size, replace=False)\n",
    "        \n",
    "    return ttest_ind(sample_a, sample_b)"
   ]
  },
  {
   "cell_type": "code",
   "execution_count": 16,
   "metadata": {},
   "outputs": [
    {
     "name": "stderr",
     "output_type": "stream",
     "text": [
      "  0%|                                                                                           | 0/85 [00:00<?, ?it/s]\n"
     ]
    },
    {
     "ename": "NameError",
     "evalue": "name 'image' is not defined",
     "output_type": "error",
     "traceback": [
      "\u001b[1;31m---------------------------------------------------------------------------\u001b[0m",
      "\u001b[1;31mNameError\u001b[0m                                 Traceback (most recent call last)",
      "\u001b[1;32m<ipython-input-16-1eb8d4e1db9b>\u001b[0m in \u001b[0;36m<module>\u001b[1;34m\u001b[0m\n\u001b[0;32m      8\u001b[0m             \u001b[1;32mcontinue\u001b[0m\u001b[1;33m\u001b[0m\u001b[1;33m\u001b[0m\u001b[0m\n\u001b[0;32m      9\u001b[0m \u001b[1;33m\u001b[0m\u001b[0m\n\u001b[1;32m---> 10\u001b[1;33m         \u001b[0minputs\u001b[0m \u001b[1;33m=\u001b[0m \u001b[0mprocessor\u001b[0m\u001b[1;33m(\u001b[0m\u001b[0mtext\u001b[0m\u001b[1;33m=\u001b[0m\u001b[0mcaptions\u001b[0m\u001b[1;33m,\u001b[0m \u001b[0mimages\u001b[0m\u001b[1;33m=\u001b[0m\u001b[0mimage\u001b[0m\u001b[1;33m,\u001b[0m \u001b[0mreturn_tensors\u001b[0m\u001b[1;33m=\u001b[0m\u001b[1;34m\"pt\"\u001b[0m\u001b[1;33m,\u001b[0m \u001b[0mpadding\u001b[0m\u001b[1;33m=\u001b[0m\u001b[1;32mTrue\u001b[0m\u001b[1;33m)\u001b[0m\u001b[1;33m\u001b[0m\u001b[1;33m\u001b[0m\u001b[0m\n\u001b[0m\u001b[0;32m     11\u001b[0m         \u001b[0mlogits\u001b[0m \u001b[1;33m=\u001b[0m \u001b[0mmodel\u001b[0m\u001b[1;33m(\u001b[0m\u001b[1;33m**\u001b[0m\u001b[0minputs\u001b[0m\u001b[1;33m)\u001b[0m\u001b[1;33m.\u001b[0m\u001b[0mlogits_per_image\u001b[0m\u001b[1;33m[\u001b[0m\u001b[1;36m0\u001b[0m\u001b[1;33m]\u001b[0m\u001b[1;33m.\u001b[0m\u001b[0mdetach\u001b[0m\u001b[1;33m(\u001b[0m\u001b[1;33m)\u001b[0m\u001b[1;33m.\u001b[0m\u001b[0mnumpy\u001b[0m\u001b[1;33m(\u001b[0m\u001b[1;33m)\u001b[0m\u001b[1;33m\u001b[0m\u001b[1;33m\u001b[0m\u001b[0m\n\u001b[0;32m     12\u001b[0m         \u001b[0msorted_logits\u001b[0m \u001b[1;33m=\u001b[0m \u001b[0mlogits\u001b[0m\u001b[1;33m[\u001b[0m\u001b[0mnp\u001b[0m\u001b[1;33m.\u001b[0m\u001b[0margsort\u001b[0m\u001b[1;33m(\u001b[0m\u001b[0mlogits\u001b[0m\u001b[1;33m)\u001b[0m\u001b[1;33m[\u001b[0m\u001b[1;33m:\u001b[0m\u001b[1;33m:\u001b[0m\u001b[1;33m-\u001b[0m\u001b[1;36m1\u001b[0m\u001b[1;33m]\u001b[0m\u001b[1;33m]\u001b[0m\u001b[1;33m\u001b[0m\u001b[1;33m\u001b[0m\u001b[0m\n",
      "\u001b[1;31mNameError\u001b[0m: name 'image' is not defined"
     ]
    }
   ],
   "source": [
    "sim_records = {}\n",
    "\n",
    "for key in tqdm(samples.keys()):\n",
    "    sim_record = {}\n",
    "    for record_id, record in records.items():\n",
    "        captions = record.get(key, [])\n",
    "        if len(captions) == 0:\n",
    "            continue\n",
    "        \n",
    "        inputs = processor(text=captions, images=image, return_tensors=\"pt\", padding=True)\n",
    "        logits = model(**inputs).logits_per_image[0].detach().numpy()\n",
    "        sorted_logits = logits[np.argsort(logits)[::-1]]\n",
    "        sim_record[record_id] = sorted_logits\n",
    "    \n",
    "    lengths = [value.shape[0] for value in sim_record.values()]\n",
    "    \n",
    "    if min(lengths) < 16:\n",
    "        continue\n",
    "        \n",
    "    sim_records[key] = sim_record"
   ]
  },
  {
   "cell_type": "code",
   "execution_count": 21,
   "metadata": {},
   "outputs": [
    {
     "data": {
      "text/plain": [
       "array([31.350168, 31.025824, 30.901922, 30.515787, 30.386406, 30.236092,\n",
       "       30.185266, 30.05999 , 29.993208, 29.98081 , 29.925995, 29.623564,\n",
       "       29.597374, 29.45525 , 29.43065 , 29.232107, 29.214981, 29.188152,\n",
       "       29.006079, 28.98182 , 28.721973, 28.583952, 28.366207, 28.343855,\n",
       "       28.219797, 28.18656 , 28.086308, 28.065895, 28.054441, 27.941397,\n",
       "       27.932589, 27.834793, 27.71163 , 27.646627, 27.616869, 27.603762,\n",
       "       27.496286, 27.431639, 27.413095, 27.407822, 27.279213, 27.194002,\n",
       "       27.080276, 27.059748, 27.037437, 26.989027, 26.89038 , 26.798405,\n",
       "       26.78367 , 26.74097 , 26.613094, 26.39619 , 26.322653, 26.301308,\n",
       "       26.28823 , 26.179272, 26.138912, 26.11029 , 26.09074 , 25.8043  ,\n",
       "       25.759514, 25.46328 , 25.459604, 25.423025, 25.395092, 25.23114 ,\n",
       "       25.156092, 24.675657, 24.671854, 24.612137, 24.602262, 24.47859 ,\n",
       "       24.261518, 24.23877 , 24.179085, 24.01067 , 23.921213, 23.321102,\n",
       "       23.029516, 22.571487, 22.369669, 19.530396], dtype=float32)"
      ]
     },
     "execution_count": 21,
     "metadata": {},
     "output_type": "execute_result"
    }
   ],
   "source": [
    "sorted_logits"
   ]
  },
  {
   "cell_type": "code",
   "execution_count": 64,
   "metadata": {},
   "outputs": [
    {
     "data": {
      "text/plain": [
       "array(['Several buildings form a diagonal line across the image, ranging in size from large to small.',\n",
       "       'Buildings are sparsely scattered across the image, the largest one stands out in the upper right corner.',\n",
       "       'The buildings in the lower half of the image form a diagonal line',\n",
       "       'Aerial view reveals an intricate assortment of buildings in diamond formation, highlighting the largest structure at the top-right corner.',\n",
       "       'A cluster of buildings, ranging from small to large sizes, are evenly distributed throughout the image.',\n",
       "       'A dominant building stands out among smaller structures in this aerial view',\n",
       "       'The organized layout of the buildings in this aerial image is accentuated by the carefully positioned small cars in the corners.',\n",
       "       'The buildings in this aerial image are arranged in a diagonal line and two small cars bookend the corners.',\n",
       "       'The buildings in this aerial image are arranged in a diagonal line while the small cars frame the bottom of the image.',\n",
       "       'Buildings are clustered in the bottom left and right corners, with a larger gap in the center of the image.',\n",
       "       'The buildings in the bottom right corner of the image form a triangle pattern.',\n",
       "       'The buildings in the bottom right of the image are grouped together, while the smaller buildings are more spread out.',\n",
       "       'The image shows an aerial view of a well-organized urban structure, with buildings and vehicles occupying defined spaces.',\n",
       "       'From the top right to bottom left, the image displays a range of varying building sizes and shapes.',\n",
       "       'The two buildings located closest to each other suggest a larger structure or settlement.',\n",
       "       'Buildings occupy the majority of the image, each with unique sizes and locations, yet together forming a discernible pattern.',\n",
       "       'The image shows several buildings of varying sizes scattered across the frame, with two small cars present in the bottom corners.',\n",
       "       'A cluster of buildings occupy the lower right quadrant, while two small cars are located on opposite corners of the image.',\n",
       "       'A cluster of buildings occupies most of the bottom-right corner, with a smaller cluster on the top-left.',\n",
       "       'Two small cars stand in opposition from opposite corners of the image, divided by various sized buildings.',\n",
       "       'The buildings in the image are located at different positions and sizes, creating a diverse urban landscape.',\n",
       "       'Two buildings form a diagonal line running from the bottom left to the top right of the image.',\n",
       "       'Rough grid pattern with two larger buildings creating a diagonal line, smaller buildings filling gaps.',\n",
       "       'An urban landscape is visible as eight buildings of varying sizes are dispersed throughout the image.',\n",
       "       'Dispersed in a diamond-shaped formation, a small arrangement of buildings is punctuated by two cars in opposing corners at the bottom of the image.',\n",
       "       'The variety of building sizes and locations in the image exemplify the complexity of urban environments.',\n",
       "       'A diagonal line of buildings runs from the bottom left to the top right, while two small cars anchor the corners.',\n",
       "       'Two small cars are positioned in opposite corners of the image, each in front of a large building.',\n",
       "       'The buildings in the image form a loose cluster, with two small cars providing additional interest in the bottom corners of the frame.',\n",
       "       'The small cars act as mere dots on the vast landscape of buildings in the image.',\n",
       "       'Cluster of buildings at bottom right.',\n",
       "       'The placement of the buildings in the image creates a balance between the left and right sides, despite their differing sizes.',\n",
       "       'The buildings are arranged in a triangle with the largest at the apex, while two small cars balance the bottom edges of the image.',\n",
       "       'Largest building in bottom right corner, surrounded by smaller ones.',\n",
       "       'The grouping of buildings appears random at first glance, but reveals a structured formation upon closer inspection.',\n",
       "       'Buildings inhabit all quadrants of the image and reveal an even distribution of both large and small structures.',\n",
       "       'The distribution of buildings creates a balance of weight and density across the image.',\n",
       "       'The buildings form a rough triangle, with the largest occupying the top and two smaller buildings at its base.',\n",
       "       'Diagonal buildings with cluster at bottom right.',\n",
       "       'Neighborhood with buildings arranged in a square pattern, two larger in opposite corners.',\n",
       "       'The buildings align in an XS shaped pattern, with smaller buildings aligning up to bigger ones.',\n",
       "       'A variety of buildings of different sizes and shapes are situated across the frame, making for a visually diverse aerial scene.',\n",
       "       'Buildings of varying sizes form a cluster in the image, with a larger building in the top right and a substantial building in the bottom left.',\n",
       "       'Buildings of varying sizes arranged in a vague diamond shape, displaced by two small cars in opposing corners of the image.',\n",
       "       'Two small cars punctuate an orderly arrangement of buildings in a diamond-shaped formation.',\n",
       "       'The lone cars in the image are small in comparison to the surrounding buildings, adding scale to the scene.',\n",
       "       'Despite the random arrangement of objects, one can still observe building placement relative to each other and distance between them.',\n",
       "       'A semi-circle of buildings on the right side of the image encloses an open space.',\n",
       "       'The buildings in the image are arranged in no particular pattern, while two small cars provide interesting background details.',\n",
       "       'The buildings and small cars in the image provide',\n",
       "       'A towering building looms above its surroundings in this urban aerial image',\n",
       "       'Parallel lines of buildings converge at the center, with two small cars adding contrast.',\n",
       "       'Small cars in opposite corners, surrounded by buildings.',\n",
       "       'The larger building to the top right dominates the image, while smaller objects cling to its periphery.',\n",
       "       'The two small cars anchor the corners of the image, while the buildings form a triangle in the center.',\n",
       "       'Diagonal buildings with separation.',\n",
       "       'A large building dominates the top right quadrant, while smaller buildings and cars occupy the rest of the space.',\n",
       "       'The buildings follow a diagonal, with smaller buildings at the corners and larger ones in the middle, connected by a road.',\n",
       "       'A diamond-shaped formation of buildings dominates the image, with the largest structure located in the top-right corner.',\n",
       "       'A large building dominates the south west corner of the image, while smaller buildings are scattered to the east.',\n",
       "       'The small cars at opposite corners serve as bookends to the dominating buildings, united by diagonal lines.',\n",
       "       'The buildings are arranged in no specific pattern or direction, creating a scattered and evenly distributed composition in the image.',\n",
       "       'The layout of the buildings resembles a rough triangle, with the large building at the top forming the apex.',\n",
       "       'Two small cars can be spotted at opposite sides of the image',\n",
       "       'Buildings diagonal, cars at opposite corners.',\n",
       "       'Two large buildings anchor a diagonal line of six buildings, with two small cars in the corners.',\n",
       "       'The two small cars appear insignificant next to the towering buildings surrounding them.',\n",
       "       'The variety of building sizes and locations in the image creates an interesting visual balance that draws attention to the smaller details of the landscape.',\n",
       "       'The small cars in both the bottom left and right corners anchor the image, while structures of varying sizes and shapes fill the middle.',\n",
       "       'From the small cars in the corners to the diagonal line of buildings, the image captures a sense of structured motion.',\n",
       "       'The buildings and cars in the image create an unorganized yet dynamic visual landscape, with no clear central focal point.',\n",
       "       'An urban landscape with various buildings and small cars scattered throughout',\n",
       "       'A triangle arrangement of buildings dominates the scene with the largest at the top.',\n",
       "       'Amidst the random arrangement, the building in the top right and the massive building in the bottom left stand out for their size.',\n",
       "       'A mix of urban and rural architecture, the buildings are randomly positioned and spaced to produce a visually engaging yet disordered scene.',\n",
       "       'A small car is dwarfed by a nearby building, while another car seems to be fleeing the busy cluster of buildings nearby.',\n",
       "       'Buildings of varying sizes and shapes are scattered throughout the image, creating an intricate and intriguing landscape.',\n",
       "       'Contrast of cars at corners, diagonal buildings in between.',\n",
       "       'Diagonal line through image connects small cars, dividing into quadrants.',\n",
       "       \"The buildings and cars create a chaotic yet intriguing visual arrangement that draws the viewer's eye across the entirety of the frame.\",\n",
       "       'Two small cars add balance to the composition, situated at the bottom corners of the triangular arrangement.',\n",
       "       'The largest building dominates the image, while a small car in the foreground contrasts its imposing presence.',\n",
       "       'a cat'], dtype='<U156')"
      ]
     },
     "execution_count": 64,
     "metadata": {},
     "output_type": "execute_result"
    }
   ],
   "source": [
    "captions_array[sorted_indices]"
   ]
  },
  {
   "cell_type": "code",
   "execution_count": 12,
   "metadata": {},
   "outputs": [
    {
     "ename": "NameError",
     "evalue": "name 'embedding' is not defined",
     "output_type": "error",
     "traceback": [
      "\u001b[1;31m---------------------------------------------------------------------------\u001b[0m",
      "\u001b[1;31mNameError\u001b[0m                                 Traceback (most recent call last)",
      "\u001b[1;32m<ipython-input-12-8bf9eb3a004d>\u001b[0m in \u001b[0;36m<module>\u001b[1;34m\u001b[0m\n\u001b[1;32m----> 1\u001b[1;33m \u001b[0mkmeans\u001b[0m \u001b[1;33m=\u001b[0m \u001b[0mfaiss\u001b[0m\u001b[1;33m.\u001b[0m\u001b[0mKmeans\u001b[0m\u001b[1;33m(\u001b[0m\u001b[0membedding\u001b[0m\u001b[1;33m.\u001b[0m\u001b[0mshape\u001b[0m\u001b[1;33m[\u001b[0m\u001b[1;36m1\u001b[0m\u001b[1;33m]\u001b[0m\u001b[1;33m,\u001b[0m \u001b[1;36m5\u001b[0m\u001b[1;33m,\u001b[0m \u001b[0mniter\u001b[0m\u001b[1;33m=\u001b[0m\u001b[1;36m20\u001b[0m\u001b[1;33m,\u001b[0m \u001b[0mverbose\u001b[0m\u001b[1;33m=\u001b[0m\u001b[1;32mTrue\u001b[0m\u001b[1;33m)\u001b[0m\u001b[1;33m\u001b[0m\u001b[1;33m\u001b[0m\u001b[0m\n\u001b[0m\u001b[0;32m      2\u001b[0m \u001b[0mkmeans\u001b[0m\u001b[1;33m.\u001b[0m\u001b[0mtrain\u001b[0m\u001b[1;33m(\u001b[0m\u001b[0membedding\u001b[0m\u001b[1;33m[\u001b[0m\u001b[1;33m:\u001b[0m\u001b[1;36m30\u001b[0m\u001b[1;33m]\u001b[0m\u001b[1;33m)\u001b[0m\u001b[1;33m\u001b[0m\u001b[1;33m\u001b[0m\u001b[0m\n",
      "\u001b[1;31mNameError\u001b[0m: name 'embedding' is not defined"
     ]
    }
   ],
   "source": [
    "kmeans = faiss.Kmeans(embedding.shape[1], 5, niter=20, verbose=True)\n",
    "kmeans.train(embedding[:30])"
   ]
  },
  {
   "cell_type": "code",
   "execution_count": 79,
   "metadata": {},
   "outputs": [],
   "source": [
    "index = faiss.IndexFlatL2(embedding.shape[1])\n",
    "index.add(embedding)\n",
    "D, I = index.search(kmeans.centroids, 2)"
   ]
  },
  {
   "cell_type": "code",
   "execution_count": 40,
   "metadata": {},
   "outputs": [
    {
     "data": {
      "text/plain": [
       "dict_keys(['10.tif_18', '10.tif_19', '10.tif_31', '10.tif_32', '10.tif_33', '10.tif_34', '10.tif_35', '10.tif_45', '10.tif_46', '10.tif_47', '10.tif_48', '10.tif_60'])"
      ]
     },
     "execution_count": 40,
     "metadata": {},
     "output_type": "execute_result"
    }
   ],
   "source": [
    "records_10.keys()"
   ]
  },
  {
   "cell_type": "code",
   "execution_count": 80,
   "metadata": {},
   "outputs": [
    {
     "name": "stdout",
     "output_type": "stream",
     "text": [
      "['Top and bottom right buildings cluster.', 'Clustered buildings in top right and center.']\n",
      "['Mostly horizontal/vertical alignment', 'Unique damage patterns top left and center']\n",
      "['Damaged buildings in top left and center top.', 'Damaged buildings are concentrated in the top left and center top, indicating a possible cause or target of the damage.']\n",
      "['The construction sites in the center of the image are interposed by buildings in the top right and bottom right.', 'Buildings are dispersed across the image, except for one in the middle bottom where a construction site is located.']\n",
      "['Hut or tent separate in top right', 'The hut or tent in the top right stands out amidst the permanent structures, suggesting a different social or economic status.']\n"
     ]
    }
   ],
   "source": [
    "for i in range(I.shape[0]):\n",
    "    print([captions[i] for i in I[i, :]])"
   ]
  },
  {
   "cell_type": "code",
   "execution_count": null,
   "metadata": {},
   "outputs": [],
   "source": []
  }
 ],
 "metadata": {
  "kernelspec": {
   "display_name": "Python 3",
   "language": "python",
   "name": "python3"
  },
  "language_info": {
   "codemirror_mode": {
    "name": "ipython",
    "version": 3
   },
   "file_extension": ".py",
   "mimetype": "text/x-python",
   "name": "python",
   "nbconvert_exporter": "python",
   "pygments_lexer": "ipython3",
   "version": "3.8.3"
  }
 },
 "nbformat": 4,
 "nbformat_minor": 4
}
