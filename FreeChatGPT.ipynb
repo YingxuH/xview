{
 "cells": [
  {
   "cell_type": "code",
   "execution_count": 17,
   "metadata": {},
   "outputs": [],
   "source": [
    "import time\n",
    "import concurrent.futures as futures\n",
    "\n",
    "from selenium import webdriver\n",
    "from selenium.webdriver.common.keys import Keys\n",
    "from selenium.webdriver.common.by import By\n",
    "from gensim.utils import tokenize\n",
    "\n",
    "from src import constants\n",
    "from src.utils import time_limit\n",
    "from src.time_out_exception import TimeOutException"
   ]
  },
  {
   "cell_type": "code",
   "execution_count": 18,
   "metadata": {},
   "outputs": [],
   "source": [
    "class FreeChatGptCaller:\n",
    "    def __init__(self, input_prompt, limit=2500, save=True):\n",
    "        self.dummy_response = ''\n",
    "        self.save = save\n",
    "        self.save_directory = \"log/free/\"\n",
    "        self.time_limit = 20\n",
    "        self.do_not_throw_number_prompt = constants.DO_NOT_THROW_NUMBER_PROMPT\n",
    "        self.do_not_make_up_prompt = constants.DO_NOT_MAKE_UP_PROMPT\n",
    "        self.do_not_make_up_keywords = constants.DO_NOT_MAKE_UP_KEYWORDS\n",
    "        \n",
    "        self.history = []\n",
    "        self.session = []\n",
    "        \n",
    "        self.target_url = \"https://gptai.cloud\"\n",
    "        self.driver = webdriver.Chrome()\n",
    "        self.driver.get(self.target_url)\n",
    "        \n",
    "    def get_text_area(self):\n",
    "        return self.driver.find_element(By.XPATH, \"//textarea\")\n",
    "        \n",
    "    def get_buttons(self):\n",
    "        buttons = self.driver.find_elements(By.XPATH, f\"//button\")\n",
    "        for button in buttons:\n",
    "            if button.get_attribute(\"title\") == \"Clear\":\n",
    "                clear_button = button\n",
    "            else:\n",
    "                send_button = button\n",
    "        return clear_button, send_button\n",
    "    \n",
    "    def _get_response(self):\n",
    "        prev_txt = None\n",
    "        txt = \"\"\n",
    "        \n",
    "        while (prev_txt is None) or (prev_txt != txt):\n",
    "            time.sleep(1)\n",
    "            responses = self.driver.find_elements(By.XPATH, \"//div[@class='flex gap-3 rounded-lg']\")            \n",
    "            if not responses:\n",
    "                continue\n",
    "            prev_txt = txt\n",
    "            txt = responses[-1].text\n",
    "            \n",
    "        return txt.replace(\"\\n\", \" \")\n",
    "    \n",
    "    def get_response(self):\n",
    "        # Main\n",
    "        with futures.ThreadPoolExecutor(max_workers=1) as executor:\n",
    "            future = executor.submit(self._get_response)\n",
    "            resp = future.result(self.time_limit)\n",
    "            executor._threads.clear()\n",
    "            futures.thread._threads_queues.clear()\n",
    "        return resp\n",
    "        \n",
    "    def start_session(self):\n",
    "        self.session = []\n",
    "        \n",
    "    def clear_session(self):\n",
    "        self.history.append(self.session)\n",
    "        self.session = []\n",
    "        clear_button = self.get_buttons()[0]\n",
    "        clear_button.click()\n",
    "        \n",
    "    def clear_history(self):\n",
    "        if self.save:\n",
    "            Path(self.save_directory).mkdir(parents=True, exist_ok=True)\n",
    "            file_name = f\"{time.strftime('%y%m%d%H%M%S')}.json\"\n",
    "            with open(os.path.join(self.save_directory, file_name), \"w\") as f:\n",
    "                json.dump(self.history, f, indent=4)\n",
    "                \n",
    "        self.history = []\n",
    "        \n",
    "    \n",
    "    def call(self, input_message, retry=3):\n",
    "        if retry == 0:\n",
    "            return self.dummy_response\n",
    "        \n",
    "        try:\n",
    "            input_ele = self.get_text_area()\n",
    "            input_ele.clear()\n",
    "            input_ele.send_keys(input_message)\n",
    "            send_button = self.get_buttons()[1]\n",
    "            send_button.click()\n",
    "            response = self.get_response()\n",
    "        except Exception as e:\n",
    "            print(f\"retry {retry}: {e}\")\n",
    "            return self.call(input_message, retry=retry-1)\n",
    "                        \n",
    "        self.session.append({\"role\": \"user\", \"content\": input_message})\n",
    "        self.session.append({\"role\": \"assistant\", \"content\": response})\n",
    "        return response\n",
    "    \n",
    "    def do_not_throw_number_validation(self, polygons, response):\n",
    "        image_size_mentions = 2\n",
    "        other_mentions = min(len(polygons), 2)\n",
    "        \n",
    "        return len(re.findall(\"\\d+\", response)) <= (image_size_mentions + other_mentions)\n",
    "    \n",
    "    def do_not_make_up_validation(self, polygons, response):\n",
    "        counts = [token for token in tokenize(response) if token in self.do_not_make_up_keywords]\n",
    "        \n",
    "        return len(counts) < 2\n",
    "        \n",
    "    def query_image(self, polygons, retry=3):\n",
    "        self.start_session()\n",
    "        input_message = f\"{self.input_prompt}: {polygons}\".replace(\"\\n\", \"\").replace(\"\\'\", \"\")\n",
    "\n",
    "        response = self.call(input_message)\n",
    "        \n",
    "        if not self.do_not_throw_number_validation(polygons, response):\n",
    "            print(f\"follow up: {response}\")\n",
    "            response = self.call(self.do_not_throw_number_prompt)\n",
    "        \n",
    "        if not self.do_not_make_up_validation(polygons, response):\n",
    "            print(f\"follow up: {response}\")\n",
    "            response = self.call(self.do_not_make_up_prompt)\n",
    "            \n",
    "        self.clear_session()\n",
    "        return response"
   ]
  },
  {
   "cell_type": "code",
   "execution_count": 15,
   "metadata": {},
   "outputs": [],
   "source": [
    "gpt = FreeChatGptCaller(\"\")"
   ]
  },
  {
   "cell_type": "code",
   "execution_count": 16,
   "metadata": {},
   "outputs": [
    {
     "name": "stdout",
     "output_type": "stream",
     "text": [
      "retry 3: \n",
      "retry 2: \n",
      "retry 1: \n"
     ]
    },
    {
     "data": {
      "text/plain": [
       "''"
      ]
     },
     "execution_count": 16,
     "metadata": {},
     "output_type": "execute_result"
    }
   ],
   "source": [
    "gpt.call(\"how do you like working\")"
   ]
  },
  {
   "cell_type": "code",
   "execution_count": 88,
   "metadata": {},
   "outputs": [],
   "source": [
    "gpt.clear_session()"
   ]
  },
  {
   "cell_type": "code",
   "execution_count": 89,
   "metadata": {},
   "outputs": [
    {
     "data": {
      "text/plain": [
       "'Hello! How may I assist you today?\\nRegenerate'"
      ]
     },
     "execution_count": 89,
     "metadata": {},
     "output_type": "execute_result"
    }
   ],
   "source": [
    "gpt.call(\"hi\")"
   ]
  },
  {
   "cell_type": "code",
   "execution_count": 42,
   "metadata": {},
   "outputs": [],
   "source": [
    "driver = webdriver.Chrome()\n",
    "driver.get(TARGET_URL)"
   ]
  },
  {
   "cell_type": "code",
   "execution_count": 43,
   "metadata": {},
   "outputs": [],
   "source": [
    "input_ele = driver.find_element(By.XPATH, \"//textarea\")"
   ]
  },
  {
   "cell_type": "code",
   "execution_count": 44,
   "metadata": {},
   "outputs": [],
   "source": [
    "input_ele.clear()"
   ]
  },
  {
   "cell_type": "code",
   "execution_count": 45,
   "metadata": {},
   "outputs": [],
   "source": [
    "input_ele.send_keys(\"I am an Assistant, known as instruct gpt\")"
   ]
  },
  {
   "cell_type": "code",
   "execution_count": 46,
   "metadata": {},
   "outputs": [],
   "source": [
    "buttons = driver.find_elements(By.XPATH, f\"//button\")\n",
    "\n",
    "for button in buttons:\n",
    "    if button.get_attribute(\"title\") == \"Clear\":\n",
    "        clear_button = button\n",
    "    else:\n",
    "        send_button = button"
   ]
  },
  {
   "cell_type": "code",
   "execution_count": 47,
   "metadata": {},
   "outputs": [],
   "source": [
    "send_button.click()"
   ]
  },
  {
   "cell_type": "code",
   "execution_count": 59,
   "metadata": {},
   "outputs": [
    {
     "data": {
      "text/plain": [
       "\"Sure, I'm up for a challenge! Here's a random question for you:\\nWhat is the capital city of Mongolia?\""
      ]
     },
     "execution_count": 59,
     "metadata": {},
     "output_type": "execute_result"
    }
   ],
   "source": [
    "driver.find_elements(By.XPATH, f\"//div[@class='py-2 -mx-4 px-4 transition-colors md:hover:bg-slate/3']\")[-3].text"
   ]
  },
  {
   "cell_type": "code",
   "execution_count": null,
   "metadata": {},
   "outputs": [],
   "source": []
  }
 ],
 "metadata": {
  "kernelspec": {
   "display_name": "Python 3",
   "language": "python",
   "name": "python3"
  },
  "language_info": {
   "codemirror_mode": {
    "name": "ipython",
    "version": 3
   },
   "file_extension": ".py",
   "mimetype": "text/x-python",
   "name": "python",
   "nbconvert_exporter": "python",
   "pygments_lexer": "ipython3",
   "version": "3.8.3"
  }
 },
 "nbformat": 4,
 "nbformat_minor": 4
}
